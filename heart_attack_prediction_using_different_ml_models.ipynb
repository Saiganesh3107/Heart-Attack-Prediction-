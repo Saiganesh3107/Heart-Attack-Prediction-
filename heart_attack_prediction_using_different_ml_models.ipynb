{
  "cells": [
    {
      "cell_type": "markdown",
      "metadata": {
        "id": "view-in-github",
        "colab_type": "text"
      },
      "source": [
        "<a href=\"https://colab.research.google.com/github/Saiganesh3107/Heart-Attack-Prediction-/blob/main/heart_attack_prediction_using_different_ml_models.ipynb\" target=\"_parent\"><img src=\"https://colab.research.google.com/assets/colab-badge.svg\" alt=\"Open In Colab\"/></a>"
      ]
    },
    {
      "cell_type": "markdown",
      "metadata": {
        "papermill": {
          "duration": 0.020321,
          "end_time": "2021-03-08T05:58:14.653494",
          "exception": false,
          "start_time": "2021-03-08T05:58:14.633173",
          "status": "completed"
        },
        "tags": [],
        "id": "epjqnlBNFX4u"
      },
      "source": [
        "# **ABOUT HEART ATTACK**"
      ]
    },
    {
      "cell_type": "markdown",
      "metadata": {
        "papermill": {
          "duration": 0.017867,
          "end_time": "2021-03-08T05:58:14.689756",
          "exception": false,
          "start_time": "2021-03-08T05:58:14.671889",
          "status": "completed"
        },
        "tags": [],
        "id": "_CNwLZ5sFX4w"
      },
      "source": [
        "> A heart attack (Cardiovascular diseases) occurs when the flow of blood to the heart muscle suddenly becomes blocked. From WHO statistics every year 17.9 million dying from heart attack. The medical study says that human life style is the main reason behind this heart problem. Apart from this there are many key factors which warns that the person may/maynot getting chance of heart attack.\n",
        "\n",
        "> <img style=\"float: centre;\" src=\"https://img.lovepik.com/photo/50074/6189.jpg_wh860.jpg\" width=\"600px\"/>\n",
        "\n",
        "> This dataset contain some medical information of patients which tells whether that person getting a heart attack chance is less or more. Using the information explore the dataset and classify the target variable using different Machine Learning models and findout which algorithm suitable for this dataset."
      ]
    },
    {
      "cell_type": "markdown",
      "metadata": {
        "papermill": {
          "duration": 0.017895,
          "end_time": "2021-03-08T05:58:14.726276",
          "exception": false,
          "start_time": "2021-03-08T05:58:14.708381",
          "status": "completed"
        },
        "tags": [],
        "id": "t3xzmDoSFX4x"
      },
      "source": [
        "## Table of Contents\n",
        "1) Import Packages\n",
        "\n",
        "2) EDA\n",
        "\n",
        "3) Preparing ML models\n",
        "\n",
        "4) Models evaluation\n",
        "\n",
        "5) Ensembling\n",
        "\n",
        "6) Conclusion"
      ]
    },
    {
      "cell_type": "markdown",
      "metadata": {
        "papermill": {
          "duration": 0.017954,
          "end_time": "2021-03-08T05:58:14.762395",
          "exception": false,
          "start_time": "2021-03-08T05:58:14.744441",
          "status": "completed"
        },
        "tags": [],
        "id": "tNREjNOJFX4x"
      },
      "source": [
        "## Packages Required"
      ]
    },
    {
      "cell_type": "code",
      "execution_count": 1,
      "metadata": {
        "execution": {
          "iopub.execute_input": "2021-03-08T05:58:14.809317Z",
          "iopub.status.busy": "2021-03-08T05:58:14.808220Z",
          "iopub.status.idle": "2021-03-08T05:58:18.085117Z",
          "shell.execute_reply": "2021-03-08T05:58:18.084363Z"
        },
        "papermill": {
          "duration": 3.304711,
          "end_time": "2021-03-08T05:58:18.085244",
          "exception": false,
          "start_time": "2021-03-08T05:58:14.780533",
          "status": "completed"
        },
        "tags": [],
        "id": "HwmwkifwFX4y"
      },
      "outputs": [],
      "source": [
        "#loading dataset\n",
        "import pandas as pd\n",
        "import numpy as np\n",
        "#visualisation\n",
        "import matplotlib.pyplot as plt\n",
        "%matplotlib inline\n",
        "import seaborn as sns\n",
        "#EDA\n",
        "from collections import Counter\n",
        "#import pandas_profiling as pp\n",
        "# data preprocessing\n",
        "from sklearn.preprocessing import StandardScaler\n",
        "# data splitting\n",
        "from sklearn.model_selection import train_test_split\n",
        "# data modeling\n",
        "from sklearn.metrics import confusion_matrix,accuracy_score,roc_curve,classification_report\n",
        "from sklearn.linear_model import LogisticRegression\n",
        "from sklearn.naive_bayes import GaussianNB\n",
        "from xgboost import XGBClassifier\n",
        "from sklearn.ensemble import RandomForestClassifier\n",
        "from sklearn.tree import DecisionTreeClassifier\n",
        "from sklearn.neighbors import KNeighborsClassifier\n",
        "from sklearn.naive_bayes import GaussianNB\n",
        "from sklearn.svm import SVC\n",
        "#ensembling\n",
        "from mlxtend.classifier import StackingCVClassifier"
      ]
    },
    {
      "cell_type": "code",
      "execution_count": 2,
      "metadata": {
        "id": "v3BRzgcbFX40"
      },
      "outputs": [],
      "source": [
        "#pip install mlxtend"
      ]
    },
    {
      "cell_type": "code",
      "source": [
        "from google.colab import files\n",
        "\n",
        "\n",
        "uploaded = files.upload()"
      ],
      "metadata": {
        "colab": {
          "base_uri": "https://localhost:8080/",
          "height": 73
        },
        "id": "i2nCx91XMcwY",
        "outputId": "32d361a8-f56a-438c-f49e-9655c7dcbad9"
      },
      "execution_count": 2,
      "outputs": [
        {
          "output_type": "display_data",
          "data": {
            "text/plain": [
              "<IPython.core.display.HTML object>"
            ],
            "text/html": [
              "\n",
              "     <input type=\"file\" id=\"files-ad9b5378-cddc-4dc8-84f3-3dfa550c1406\" name=\"files[]\" multiple disabled\n",
              "        style=\"border:none\" />\n",
              "     <output id=\"result-ad9b5378-cddc-4dc8-84f3-3dfa550c1406\">\n",
              "      Upload widget is only available when the cell has been executed in the\n",
              "      current browser session. Please rerun this cell to enable.\n",
              "      </output>\n",
              "      <script>// Copyright 2017 Google LLC\n",
              "//\n",
              "// Licensed under the Apache License, Version 2.0 (the \"License\");\n",
              "// you may not use this file except in compliance with the License.\n",
              "// You may obtain a copy of the License at\n",
              "//\n",
              "//      http://www.apache.org/licenses/LICENSE-2.0\n",
              "//\n",
              "// Unless required by applicable law or agreed to in writing, software\n",
              "// distributed under the License is distributed on an \"AS IS\" BASIS,\n",
              "// WITHOUT WARRANTIES OR CONDITIONS OF ANY KIND, either express or implied.\n",
              "// See the License for the specific language governing permissions and\n",
              "// limitations under the License.\n",
              "\n",
              "/**\n",
              " * @fileoverview Helpers for google.colab Python module.\n",
              " */\n",
              "(function(scope) {\n",
              "function span(text, styleAttributes = {}) {\n",
              "  const element = document.createElement('span');\n",
              "  element.textContent = text;\n",
              "  for (const key of Object.keys(styleAttributes)) {\n",
              "    element.style[key] = styleAttributes[key];\n",
              "  }\n",
              "  return element;\n",
              "}\n",
              "\n",
              "// Max number of bytes which will be uploaded at a time.\n",
              "const MAX_PAYLOAD_SIZE = 100 * 1024;\n",
              "\n",
              "function _uploadFiles(inputId, outputId) {\n",
              "  const steps = uploadFilesStep(inputId, outputId);\n",
              "  const outputElement = document.getElementById(outputId);\n",
              "  // Cache steps on the outputElement to make it available for the next call\n",
              "  // to uploadFilesContinue from Python.\n",
              "  outputElement.steps = steps;\n",
              "\n",
              "  return _uploadFilesContinue(outputId);\n",
              "}\n",
              "\n",
              "// This is roughly an async generator (not supported in the browser yet),\n",
              "// where there are multiple asynchronous steps and the Python side is going\n",
              "// to poll for completion of each step.\n",
              "// This uses a Promise to block the python side on completion of each step,\n",
              "// then passes the result of the previous step as the input to the next step.\n",
              "function _uploadFilesContinue(outputId) {\n",
              "  const outputElement = document.getElementById(outputId);\n",
              "  const steps = outputElement.steps;\n",
              "\n",
              "  const next = steps.next(outputElement.lastPromiseValue);\n",
              "  return Promise.resolve(next.value.promise).then((value) => {\n",
              "    // Cache the last promise value to make it available to the next\n",
              "    // step of the generator.\n",
              "    outputElement.lastPromiseValue = value;\n",
              "    return next.value.response;\n",
              "  });\n",
              "}\n",
              "\n",
              "/**\n",
              " * Generator function which is called between each async step of the upload\n",
              " * process.\n",
              " * @param {string} inputId Element ID of the input file picker element.\n",
              " * @param {string} outputId Element ID of the output display.\n",
              " * @return {!Iterable<!Object>} Iterable of next steps.\n",
              " */\n",
              "function* uploadFilesStep(inputId, outputId) {\n",
              "  const inputElement = document.getElementById(inputId);\n",
              "  inputElement.disabled = false;\n",
              "\n",
              "  const outputElement = document.getElementById(outputId);\n",
              "  outputElement.innerHTML = '';\n",
              "\n",
              "  const pickedPromise = new Promise((resolve) => {\n",
              "    inputElement.addEventListener('change', (e) => {\n",
              "      resolve(e.target.files);\n",
              "    });\n",
              "  });\n",
              "\n",
              "  const cancel = document.createElement('button');\n",
              "  inputElement.parentElement.appendChild(cancel);\n",
              "  cancel.textContent = 'Cancel upload';\n",
              "  const cancelPromise = new Promise((resolve) => {\n",
              "    cancel.onclick = () => {\n",
              "      resolve(null);\n",
              "    };\n",
              "  });\n",
              "\n",
              "  // Wait for the user to pick the files.\n",
              "  const files = yield {\n",
              "    promise: Promise.race([pickedPromise, cancelPromise]),\n",
              "    response: {\n",
              "      action: 'starting',\n",
              "    }\n",
              "  };\n",
              "\n",
              "  cancel.remove();\n",
              "\n",
              "  // Disable the input element since further picks are not allowed.\n",
              "  inputElement.disabled = true;\n",
              "\n",
              "  if (!files) {\n",
              "    return {\n",
              "      response: {\n",
              "        action: 'complete',\n",
              "      }\n",
              "    };\n",
              "  }\n",
              "\n",
              "  for (const file of files) {\n",
              "    const li = document.createElement('li');\n",
              "    li.append(span(file.name, {fontWeight: 'bold'}));\n",
              "    li.append(span(\n",
              "        `(${file.type || 'n/a'}) - ${file.size} bytes, ` +\n",
              "        `last modified: ${\n",
              "            file.lastModifiedDate ? file.lastModifiedDate.toLocaleDateString() :\n",
              "                                    'n/a'} - `));\n",
              "    const percent = span('0% done');\n",
              "    li.appendChild(percent);\n",
              "\n",
              "    outputElement.appendChild(li);\n",
              "\n",
              "    const fileDataPromise = new Promise((resolve) => {\n",
              "      const reader = new FileReader();\n",
              "      reader.onload = (e) => {\n",
              "        resolve(e.target.result);\n",
              "      };\n",
              "      reader.readAsArrayBuffer(file);\n",
              "    });\n",
              "    // Wait for the data to be ready.\n",
              "    let fileData = yield {\n",
              "      promise: fileDataPromise,\n",
              "      response: {\n",
              "        action: 'continue',\n",
              "      }\n",
              "    };\n",
              "\n",
              "    // Use a chunked sending to avoid message size limits. See b/62115660.\n",
              "    let position = 0;\n",
              "    do {\n",
              "      const length = Math.min(fileData.byteLength - position, MAX_PAYLOAD_SIZE);\n",
              "      const chunk = new Uint8Array(fileData, position, length);\n",
              "      position += length;\n",
              "\n",
              "      const base64 = btoa(String.fromCharCode.apply(null, chunk));\n",
              "      yield {\n",
              "        response: {\n",
              "          action: 'append',\n",
              "          file: file.name,\n",
              "          data: base64,\n",
              "        },\n",
              "      };\n",
              "\n",
              "      let percentDone = fileData.byteLength === 0 ?\n",
              "          100 :\n",
              "          Math.round((position / fileData.byteLength) * 100);\n",
              "      percent.textContent = `${percentDone}% done`;\n",
              "\n",
              "    } while (position < fileData.byteLength);\n",
              "  }\n",
              "\n",
              "  // All done.\n",
              "  yield {\n",
              "    response: {\n",
              "      action: 'complete',\n",
              "    }\n",
              "  };\n",
              "}\n",
              "\n",
              "scope.google = scope.google || {};\n",
              "scope.google.colab = scope.google.colab || {};\n",
              "scope.google.colab._files = {\n",
              "  _uploadFiles,\n",
              "  _uploadFilesContinue,\n",
              "};\n",
              "})(self);\n",
              "</script> "
            ]
          },
          "metadata": {}
        },
        {
          "output_type": "stream",
          "name": "stdout",
          "text": [
            "Saving heart.csv to heart (2).csv\n"
          ]
        }
      ]
    },
    {
      "cell_type": "code",
      "execution_count": 3,
      "metadata": {
        "_cell_guid": "79c7e3d0-c299-4dcb-8224-4455121ee9b0",
        "_uuid": "d629ff2d2480ee46fbb7e2d37f6b5fab8052498a",
        "execution": {
          "iopub.execute_input": "2021-03-08T05:58:18.136359Z",
          "iopub.status.busy": "2021-03-08T05:58:18.135502Z",
          "iopub.status.idle": "2021-03-08T05:58:18.169241Z",
          "shell.execute_reply": "2021-03-08T05:58:18.168578Z"
        },
        "papermill": {
          "duration": 0.065421,
          "end_time": "2021-03-08T05:58:18.169354",
          "exception": false,
          "start_time": "2021-03-08T05:58:18.103933",
          "status": "completed"
        },
        "tags": [],
        "colab": {
          "base_uri": "https://localhost:8080/",
          "height": 206
        },
        "id": "zU1QtXlZFX40",
        "outputId": "5d0a8de4-2b52-47a1-cd57-e42944df5fd2"
      },
      "outputs": [
        {
          "output_type": "execute_result",
          "data": {
            "text/plain": [
              "   age  sex  cp  trtbps  chol  fbs  restecg  thalachh  exng  oldpeak  slp  \\\n",
              "0   63    1   3     145   233    1        0       150     0      2.3    0   \n",
              "1   37    1   2     130   250    0        1       187     0      3.5    0   \n",
              "2   41    0   1     130   204    0        0       172     0      1.4    2   \n",
              "3   56    1   1     120   236    0        1       178     0      0.8    2   \n",
              "4   57    0   0     120   354    0        1       163     1      0.6    2   \n",
              "\n",
              "   caa  thall  output  \n",
              "0    0      1       1  \n",
              "1    0      2       1  \n",
              "2    0      2       1  \n",
              "3    0      2       1  \n",
              "4    0      2       1  "
            ],
            "text/html": [
              "\n",
              "  <div id=\"df-4f8086f1-18f3-4454-a23d-bcb7859079ab\" class=\"colab-df-container\">\n",
              "    <div>\n",
              "<style scoped>\n",
              "    .dataframe tbody tr th:only-of-type {\n",
              "        vertical-align: middle;\n",
              "    }\n",
              "\n",
              "    .dataframe tbody tr th {\n",
              "        vertical-align: top;\n",
              "    }\n",
              "\n",
              "    .dataframe thead th {\n",
              "        text-align: right;\n",
              "    }\n",
              "</style>\n",
              "<table border=\"1\" class=\"dataframe\">\n",
              "  <thead>\n",
              "    <tr style=\"text-align: right;\">\n",
              "      <th></th>\n",
              "      <th>age</th>\n",
              "      <th>sex</th>\n",
              "      <th>cp</th>\n",
              "      <th>trtbps</th>\n",
              "      <th>chol</th>\n",
              "      <th>fbs</th>\n",
              "      <th>restecg</th>\n",
              "      <th>thalachh</th>\n",
              "      <th>exng</th>\n",
              "      <th>oldpeak</th>\n",
              "      <th>slp</th>\n",
              "      <th>caa</th>\n",
              "      <th>thall</th>\n",
              "      <th>output</th>\n",
              "    </tr>\n",
              "  </thead>\n",
              "  <tbody>\n",
              "    <tr>\n",
              "      <th>0</th>\n",
              "      <td>63</td>\n",
              "      <td>1</td>\n",
              "      <td>3</td>\n",
              "      <td>145</td>\n",
              "      <td>233</td>\n",
              "      <td>1</td>\n",
              "      <td>0</td>\n",
              "      <td>150</td>\n",
              "      <td>0</td>\n",
              "      <td>2.3</td>\n",
              "      <td>0</td>\n",
              "      <td>0</td>\n",
              "      <td>1</td>\n",
              "      <td>1</td>\n",
              "    </tr>\n",
              "    <tr>\n",
              "      <th>1</th>\n",
              "      <td>37</td>\n",
              "      <td>1</td>\n",
              "      <td>2</td>\n",
              "      <td>130</td>\n",
              "      <td>250</td>\n",
              "      <td>0</td>\n",
              "      <td>1</td>\n",
              "      <td>187</td>\n",
              "      <td>0</td>\n",
              "      <td>3.5</td>\n",
              "      <td>0</td>\n",
              "      <td>0</td>\n",
              "      <td>2</td>\n",
              "      <td>1</td>\n",
              "    </tr>\n",
              "    <tr>\n",
              "      <th>2</th>\n",
              "      <td>41</td>\n",
              "      <td>0</td>\n",
              "      <td>1</td>\n",
              "      <td>130</td>\n",
              "      <td>204</td>\n",
              "      <td>0</td>\n",
              "      <td>0</td>\n",
              "      <td>172</td>\n",
              "      <td>0</td>\n",
              "      <td>1.4</td>\n",
              "      <td>2</td>\n",
              "      <td>0</td>\n",
              "      <td>2</td>\n",
              "      <td>1</td>\n",
              "    </tr>\n",
              "    <tr>\n",
              "      <th>3</th>\n",
              "      <td>56</td>\n",
              "      <td>1</td>\n",
              "      <td>1</td>\n",
              "      <td>120</td>\n",
              "      <td>236</td>\n",
              "      <td>0</td>\n",
              "      <td>1</td>\n",
              "      <td>178</td>\n",
              "      <td>0</td>\n",
              "      <td>0.8</td>\n",
              "      <td>2</td>\n",
              "      <td>0</td>\n",
              "      <td>2</td>\n",
              "      <td>1</td>\n",
              "    </tr>\n",
              "    <tr>\n",
              "      <th>4</th>\n",
              "      <td>57</td>\n",
              "      <td>0</td>\n",
              "      <td>0</td>\n",
              "      <td>120</td>\n",
              "      <td>354</td>\n",
              "      <td>0</td>\n",
              "      <td>1</td>\n",
              "      <td>163</td>\n",
              "      <td>1</td>\n",
              "      <td>0.6</td>\n",
              "      <td>2</td>\n",
              "      <td>0</td>\n",
              "      <td>2</td>\n",
              "      <td>1</td>\n",
              "    </tr>\n",
              "  </tbody>\n",
              "</table>\n",
              "</div>\n",
              "    <div class=\"colab-df-buttons\">\n",
              "\n",
              "  <div class=\"colab-df-container\">\n",
              "    <button class=\"colab-df-convert\" onclick=\"convertToInteractive('df-4f8086f1-18f3-4454-a23d-bcb7859079ab')\"\n",
              "            title=\"Convert this dataframe to an interactive table.\"\n",
              "            style=\"display:none;\">\n",
              "\n",
              "  <svg xmlns=\"http://www.w3.org/2000/svg\" height=\"24px\" viewBox=\"0 -960 960 960\">\n",
              "    <path d=\"M120-120v-720h720v720H120Zm60-500h600v-160H180v160Zm220 220h160v-160H400v160Zm0 220h160v-160H400v160ZM180-400h160v-160H180v160Zm440 0h160v-160H620v160ZM180-180h160v-160H180v160Zm440 0h160v-160H620v160Z\"/>\n",
              "  </svg>\n",
              "    </button>\n",
              "\n",
              "  <style>\n",
              "    .colab-df-container {\n",
              "      display:flex;\n",
              "      gap: 12px;\n",
              "    }\n",
              "\n",
              "    .colab-df-convert {\n",
              "      background-color: #E8F0FE;\n",
              "      border: none;\n",
              "      border-radius: 50%;\n",
              "      cursor: pointer;\n",
              "      display: none;\n",
              "      fill: #1967D2;\n",
              "      height: 32px;\n",
              "      padding: 0 0 0 0;\n",
              "      width: 32px;\n",
              "    }\n",
              "\n",
              "    .colab-df-convert:hover {\n",
              "      background-color: #E2EBFA;\n",
              "      box-shadow: 0px 1px 2px rgba(60, 64, 67, 0.3), 0px 1px 3px 1px rgba(60, 64, 67, 0.15);\n",
              "      fill: #174EA6;\n",
              "    }\n",
              "\n",
              "    .colab-df-buttons div {\n",
              "      margin-bottom: 4px;\n",
              "    }\n",
              "\n",
              "    [theme=dark] .colab-df-convert {\n",
              "      background-color: #3B4455;\n",
              "      fill: #D2E3FC;\n",
              "    }\n",
              "\n",
              "    [theme=dark] .colab-df-convert:hover {\n",
              "      background-color: #434B5C;\n",
              "      box-shadow: 0px 1px 3px 1px rgba(0, 0, 0, 0.15);\n",
              "      filter: drop-shadow(0px 1px 2px rgba(0, 0, 0, 0.3));\n",
              "      fill: #FFFFFF;\n",
              "    }\n",
              "  </style>\n",
              "\n",
              "    <script>\n",
              "      const buttonEl =\n",
              "        document.querySelector('#df-4f8086f1-18f3-4454-a23d-bcb7859079ab button.colab-df-convert');\n",
              "      buttonEl.style.display =\n",
              "        google.colab.kernel.accessAllowed ? 'block' : 'none';\n",
              "\n",
              "      async function convertToInteractive(key) {\n",
              "        const element = document.querySelector('#df-4f8086f1-18f3-4454-a23d-bcb7859079ab');\n",
              "        const dataTable =\n",
              "          await google.colab.kernel.invokeFunction('convertToInteractive',\n",
              "                                                    [key], {});\n",
              "        if (!dataTable) return;\n",
              "\n",
              "        const docLinkHtml = 'Like what you see? Visit the ' +\n",
              "          '<a target=\"_blank\" href=https://colab.research.google.com/notebooks/data_table.ipynb>data table notebook</a>'\n",
              "          + ' to learn more about interactive tables.';\n",
              "        element.innerHTML = '';\n",
              "        dataTable['output_type'] = 'display_data';\n",
              "        await google.colab.output.renderOutput(dataTable, element);\n",
              "        const docLink = document.createElement('div');\n",
              "        docLink.innerHTML = docLinkHtml;\n",
              "        element.appendChild(docLink);\n",
              "      }\n",
              "    </script>\n",
              "  </div>\n",
              "\n",
              "\n",
              "    <div id=\"df-51df981d-d490-4174-81e2-2f6ff2f11e1d\">\n",
              "      <button class=\"colab-df-quickchart\" onclick=\"quickchart('df-51df981d-d490-4174-81e2-2f6ff2f11e1d')\"\n",
              "                title=\"Suggest charts\"\n",
              "                style=\"display:none;\">\n",
              "\n",
              "<svg xmlns=\"http://www.w3.org/2000/svg\" height=\"24px\"viewBox=\"0 0 24 24\"\n",
              "     width=\"24px\">\n",
              "    <g>\n",
              "        <path d=\"M19 3H5c-1.1 0-2 .9-2 2v14c0 1.1.9 2 2 2h14c1.1 0 2-.9 2-2V5c0-1.1-.9-2-2-2zM9 17H7v-7h2v7zm4 0h-2V7h2v10zm4 0h-2v-4h2v4z\"/>\n",
              "    </g>\n",
              "</svg>\n",
              "      </button>\n",
              "\n",
              "<style>\n",
              "  .colab-df-quickchart {\n",
              "      --bg-color: #E8F0FE;\n",
              "      --fill-color: #1967D2;\n",
              "      --hover-bg-color: #E2EBFA;\n",
              "      --hover-fill-color: #174EA6;\n",
              "      --disabled-fill-color: #AAA;\n",
              "      --disabled-bg-color: #DDD;\n",
              "  }\n",
              "\n",
              "  [theme=dark] .colab-df-quickchart {\n",
              "      --bg-color: #3B4455;\n",
              "      --fill-color: #D2E3FC;\n",
              "      --hover-bg-color: #434B5C;\n",
              "      --hover-fill-color: #FFFFFF;\n",
              "      --disabled-bg-color: #3B4455;\n",
              "      --disabled-fill-color: #666;\n",
              "  }\n",
              "\n",
              "  .colab-df-quickchart {\n",
              "    background-color: var(--bg-color);\n",
              "    border: none;\n",
              "    border-radius: 50%;\n",
              "    cursor: pointer;\n",
              "    display: none;\n",
              "    fill: var(--fill-color);\n",
              "    height: 32px;\n",
              "    padding: 0;\n",
              "    width: 32px;\n",
              "  }\n",
              "\n",
              "  .colab-df-quickchart:hover {\n",
              "    background-color: var(--hover-bg-color);\n",
              "    box-shadow: 0 1px 2px rgba(60, 64, 67, 0.3), 0 1px 3px 1px rgba(60, 64, 67, 0.15);\n",
              "    fill: var(--button-hover-fill-color);\n",
              "  }\n",
              "\n",
              "  .colab-df-quickchart-complete:disabled,\n",
              "  .colab-df-quickchart-complete:disabled:hover {\n",
              "    background-color: var(--disabled-bg-color);\n",
              "    fill: var(--disabled-fill-color);\n",
              "    box-shadow: none;\n",
              "  }\n",
              "\n",
              "  .colab-df-spinner {\n",
              "    border: 2px solid var(--fill-color);\n",
              "    border-color: transparent;\n",
              "    border-bottom-color: var(--fill-color);\n",
              "    animation:\n",
              "      spin 1s steps(1) infinite;\n",
              "  }\n",
              "\n",
              "  @keyframes spin {\n",
              "    0% {\n",
              "      border-color: transparent;\n",
              "      border-bottom-color: var(--fill-color);\n",
              "      border-left-color: var(--fill-color);\n",
              "    }\n",
              "    20% {\n",
              "      border-color: transparent;\n",
              "      border-left-color: var(--fill-color);\n",
              "      border-top-color: var(--fill-color);\n",
              "    }\n",
              "    30% {\n",
              "      border-color: transparent;\n",
              "      border-left-color: var(--fill-color);\n",
              "      border-top-color: var(--fill-color);\n",
              "      border-right-color: var(--fill-color);\n",
              "    }\n",
              "    40% {\n",
              "      border-color: transparent;\n",
              "      border-right-color: var(--fill-color);\n",
              "      border-top-color: var(--fill-color);\n",
              "    }\n",
              "    60% {\n",
              "      border-color: transparent;\n",
              "      border-right-color: var(--fill-color);\n",
              "    }\n",
              "    80% {\n",
              "      border-color: transparent;\n",
              "      border-right-color: var(--fill-color);\n",
              "      border-bottom-color: var(--fill-color);\n",
              "    }\n",
              "    90% {\n",
              "      border-color: transparent;\n",
              "      border-bottom-color: var(--fill-color);\n",
              "    }\n",
              "  }\n",
              "</style>\n",
              "\n",
              "      <script>\n",
              "        async function quickchart(key) {\n",
              "          const quickchartButtonEl =\n",
              "            document.querySelector('#' + key + ' button');\n",
              "          quickchartButtonEl.disabled = true;  // To prevent multiple clicks.\n",
              "          quickchartButtonEl.classList.add('colab-df-spinner');\n",
              "          try {\n",
              "            const charts = await google.colab.kernel.invokeFunction(\n",
              "                'suggestCharts', [key], {});\n",
              "          } catch (error) {\n",
              "            console.error('Error during call to suggestCharts:', error);\n",
              "          }\n",
              "          quickchartButtonEl.classList.remove('colab-df-spinner');\n",
              "          quickchartButtonEl.classList.add('colab-df-quickchart-complete');\n",
              "        }\n",
              "        (() => {\n",
              "          let quickchartButtonEl =\n",
              "            document.querySelector('#df-51df981d-d490-4174-81e2-2f6ff2f11e1d button');\n",
              "          quickchartButtonEl.style.display =\n",
              "            google.colab.kernel.accessAllowed ? 'block' : 'none';\n",
              "        })();\n",
              "      </script>\n",
              "    </div>\n",
              "\n",
              "    </div>\n",
              "  </div>\n"
            ],
            "application/vnd.google.colaboratory.intrinsic+json": {
              "type": "dataframe",
              "variable_name": "data",
              "summary": "{\n  \"name\": \"data\",\n  \"rows\": 303,\n  \"fields\": [\n    {\n      \"column\": \"age\",\n      \"properties\": {\n        \"dtype\": \"number\",\n        \"std\": 9,\n        \"min\": 29,\n        \"max\": 77,\n        \"num_unique_values\": 41,\n        \"samples\": [\n          46,\n          66,\n          48\n        ],\n        \"semantic_type\": \"\",\n        \"description\": \"\"\n      }\n    },\n    {\n      \"column\": \"sex\",\n      \"properties\": {\n        \"dtype\": \"number\",\n        \"std\": 0,\n        \"min\": 0,\n        \"max\": 1,\n        \"num_unique_values\": 2,\n        \"samples\": [\n          0,\n          1\n        ],\n        \"semantic_type\": \"\",\n        \"description\": \"\"\n      }\n    },\n    {\n      \"column\": \"cp\",\n      \"properties\": {\n        \"dtype\": \"number\",\n        \"std\": 1,\n        \"min\": 0,\n        \"max\": 3,\n        \"num_unique_values\": 4,\n        \"samples\": [\n          2,\n          0\n        ],\n        \"semantic_type\": \"\",\n        \"description\": \"\"\n      }\n    },\n    {\n      \"column\": \"trtbps\",\n      \"properties\": {\n        \"dtype\": \"number\",\n        \"std\": 17,\n        \"min\": 94,\n        \"max\": 200,\n        \"num_unique_values\": 49,\n        \"samples\": [\n          104,\n          123\n        ],\n        \"semantic_type\": \"\",\n        \"description\": \"\"\n      }\n    },\n    {\n      \"column\": \"chol\",\n      \"properties\": {\n        \"dtype\": \"number\",\n        \"std\": 51,\n        \"min\": 126,\n        \"max\": 564,\n        \"num_unique_values\": 152,\n        \"samples\": [\n          277,\n          169\n        ],\n        \"semantic_type\": \"\",\n        \"description\": \"\"\n      }\n    },\n    {\n      \"column\": \"fbs\",\n      \"properties\": {\n        \"dtype\": \"number\",\n        \"std\": 0,\n        \"min\": 0,\n        \"max\": 1,\n        \"num_unique_values\": 2,\n        \"samples\": [\n          0,\n          1\n        ],\n        \"semantic_type\": \"\",\n        \"description\": \"\"\n      }\n    },\n    {\n      \"column\": \"restecg\",\n      \"properties\": {\n        \"dtype\": \"number\",\n        \"std\": 0,\n        \"min\": 0,\n        \"max\": 2,\n        \"num_unique_values\": 3,\n        \"samples\": [\n          0,\n          1\n        ],\n        \"semantic_type\": \"\",\n        \"description\": \"\"\n      }\n    },\n    {\n      \"column\": \"thalachh\",\n      \"properties\": {\n        \"dtype\": \"number\",\n        \"std\": 22,\n        \"min\": 71,\n        \"max\": 202,\n        \"num_unique_values\": 91,\n        \"samples\": [\n          159,\n          152\n        ],\n        \"semantic_type\": \"\",\n        \"description\": \"\"\n      }\n    },\n    {\n      \"column\": \"exng\",\n      \"properties\": {\n        \"dtype\": \"number\",\n        \"std\": 0,\n        \"min\": 0,\n        \"max\": 1,\n        \"num_unique_values\": 2,\n        \"samples\": [\n          1,\n          0\n        ],\n        \"semantic_type\": \"\",\n        \"description\": \"\"\n      }\n    },\n    {\n      \"column\": \"oldpeak\",\n      \"properties\": {\n        \"dtype\": \"number\",\n        \"std\": 1.1610750220686343,\n        \"min\": 0.0,\n        \"max\": 6.2,\n        \"num_unique_values\": 40,\n        \"samples\": [\n          1.9,\n          3.0\n        ],\n        \"semantic_type\": \"\",\n        \"description\": \"\"\n      }\n    },\n    {\n      \"column\": \"slp\",\n      \"properties\": {\n        \"dtype\": \"number\",\n        \"std\": 0,\n        \"min\": 0,\n        \"max\": 2,\n        \"num_unique_values\": 3,\n        \"samples\": [\n          0,\n          2\n        ],\n        \"semantic_type\": \"\",\n        \"description\": \"\"\n      }\n    },\n    {\n      \"column\": \"caa\",\n      \"properties\": {\n        \"dtype\": \"number\",\n        \"std\": 1,\n        \"min\": 0,\n        \"max\": 4,\n        \"num_unique_values\": 5,\n        \"samples\": [\n          2,\n          4\n        ],\n        \"semantic_type\": \"\",\n        \"description\": \"\"\n      }\n    },\n    {\n      \"column\": \"thall\",\n      \"properties\": {\n        \"dtype\": \"number\",\n        \"std\": 0,\n        \"min\": 0,\n        \"max\": 3,\n        \"num_unique_values\": 4,\n        \"samples\": [\n          2,\n          0\n        ],\n        \"semantic_type\": \"\",\n        \"description\": \"\"\n      }\n    },\n    {\n      \"column\": \"output\",\n      \"properties\": {\n        \"dtype\": \"number\",\n        \"std\": 0,\n        \"min\": 0,\n        \"max\": 1,\n        \"num_unique_values\": 2,\n        \"samples\": [\n          0,\n          1\n        ],\n        \"semantic_type\": \"\",\n        \"description\": \"\"\n      }\n    }\n  ]\n}"
            }
          },
          "metadata": {},
          "execution_count": 3
        }
      ],
      "source": [
        "data = pd.read_csv('heart.csv')\n",
        "data.head()"
      ]
    },
    {
      "cell_type": "code",
      "execution_count": 4,
      "metadata": {
        "execution": {
          "iopub.execute_input": "2021-03-08T05:58:18.225230Z",
          "iopub.status.busy": "2021-03-08T05:58:18.224300Z",
          "iopub.status.idle": "2021-03-08T05:58:18.229204Z",
          "shell.execute_reply": "2021-03-08T05:58:18.227892Z"
        },
        "papermill": {
          "duration": 0.040512,
          "end_time": "2021-03-08T05:58:18.229407",
          "exception": false,
          "start_time": "2021-03-08T05:58:18.188895",
          "status": "completed"
        },
        "tags": [],
        "id": "qIQxiV2cFX41",
        "colab": {
          "base_uri": "https://localhost:8080/"
        },
        "outputId": "df981882-1bc0-4209-e785-078fc98afe50"
      },
      "outputs": [
        {
          "output_type": "stream",
          "name": "stdout",
          "text": [
            "<class 'pandas.core.frame.DataFrame'>\n",
            "RangeIndex: 303 entries, 0 to 302\n",
            "Data columns (total 14 columns):\n",
            " #   Column    Non-Null Count  Dtype  \n",
            "---  ------    --------------  -----  \n",
            " 0   age       303 non-null    int64  \n",
            " 1   sex       303 non-null    int64  \n",
            " 2   cp        303 non-null    int64  \n",
            " 3   trtbps    303 non-null    int64  \n",
            " 4   chol      303 non-null    int64  \n",
            " 5   fbs       303 non-null    int64  \n",
            " 6   restecg   303 non-null    int64  \n",
            " 7   thalachh  303 non-null    int64  \n",
            " 8   exng      303 non-null    int64  \n",
            " 9   oldpeak   303 non-null    float64\n",
            " 10  slp       303 non-null    int64  \n",
            " 11  caa       303 non-null    int64  \n",
            " 12  thall     303 non-null    int64  \n",
            " 13  output    303 non-null    int64  \n",
            "dtypes: float64(1), int64(13)\n",
            "memory usage: 33.3 KB\n"
          ]
        }
      ],
      "source": [
        "data.info()"
      ]
    },
    {
      "cell_type": "markdown",
      "metadata": {
        "papermill": {
          "duration": 0.136581,
          "end_time": "2021-03-08T05:58:38.165161",
          "exception": false,
          "start_time": "2021-03-08T05:58:38.028580",
          "status": "completed"
        },
        "tags": [],
        "id": "wyU6xuViFX42"
      },
      "source": [
        "## **Model prepration**"
      ]
    },
    {
      "cell_type": "code",
      "execution_count": 21,
      "metadata": {
        "execution": {
          "iopub.execute_input": "2021-03-08T05:58:38.447283Z",
          "iopub.status.busy": "2021-03-08T05:58:38.446533Z",
          "iopub.status.idle": "2021-03-08T05:58:38.452211Z",
          "shell.execute_reply": "2021-03-08T05:58:38.451656Z"
        },
        "papermill": {
          "duration": 0.152167,
          "end_time": "2021-03-08T05:58:38.452344",
          "exception": false,
          "start_time": "2021-03-08T05:58:38.300177",
          "status": "completed"
        },
        "tags": [],
        "id": "VMfLfmujFX43"
      },
      "outputs": [],
      "source": [
        "y = data[\"output\"]\n",
        "X = data.drop('output',axis=1)\n",
        "X_train, X_test, y_train, y_test = train_test_split(X, y, test_size=0.20, random_state = 0)"
      ]
    },
    {
      "cell_type": "markdown",
      "metadata": {
        "papermill": {
          "duration": 0.135995,
          "end_time": "2021-03-08T05:58:38.723328",
          "exception": false,
          "start_time": "2021-03-08T05:58:38.587333",
          "status": "completed"
        },
        "tags": [],
        "id": "Y1ZRo5CHFX43"
      },
      "source": [
        "**Before applying algorithm we should check whether the data is equally splitted or not, because if data is not splitted equally it will cause for data imbalacing problem**"
      ]
    },
    {
      "cell_type": "code",
      "execution_count": 22,
      "metadata": {
        "execution": {
          "iopub.execute_input": "2021-03-08T05:58:39.002799Z",
          "iopub.status.busy": "2021-03-08T05:58:39.001791Z",
          "iopub.status.idle": "2021-03-08T05:58:39.008149Z",
          "shell.execute_reply": "2021-03-08T05:58:39.007581Z"
        },
        "papermill": {
          "duration": 0.149741,
          "end_time": "2021-03-08T05:58:39.008265",
          "exception": false,
          "start_time": "2021-03-08T05:58:38.858524",
          "status": "completed"
        },
        "tags": [],
        "id": "q70MdYfuFX43",
        "colab": {
          "base_uri": "https://localhost:8080/"
        },
        "outputId": "af6e54ac-fee1-4f22-94c1-cd0af12f9521"
      },
      "outputs": [
        {
          "output_type": "stream",
          "name": "stdout",
          "text": [
            "[0 1]\n"
          ]
        },
        {
          "output_type": "execute_result",
          "data": {
            "text/plain": [
              "Counter({1: 131, 0: 111})"
            ]
          },
          "metadata": {},
          "execution_count": 22
        }
      ],
      "source": [
        "print(y_test.unique())\n",
        "Counter(y_train)"
      ]
    },
    {
      "cell_type": "code",
      "execution_count": 23,
      "metadata": {
        "execution": {
          "iopub.execute_input": "2021-03-08T05:58:39.293392Z",
          "iopub.status.busy": "2021-03-08T05:58:39.292165Z",
          "iopub.status.idle": "2021-03-08T05:58:39.302008Z",
          "shell.execute_reply": "2021-03-08T05:58:39.301411Z"
        },
        "papermill": {
          "duration": 0.158128,
          "end_time": "2021-03-08T05:58:39.302127",
          "exception": false,
          "start_time": "2021-03-08T05:58:39.143999",
          "status": "completed"
        },
        "tags": [],
        "id": "LYO1GRcDFX43"
      },
      "outputs": [],
      "source": [
        "scaler = StandardScaler()\n",
        "X_train = scaler.fit_transform(X_train)\n",
        "X_test = scaler.transform(X_test)"
      ]
    },
    {
      "cell_type": "markdown",
      "metadata": {
        "papermill": {
          "duration": 0.134945,
          "end_time": "2021-03-08T05:58:39.573038",
          "exception": false,
          "start_time": "2021-03-08T05:58:39.438093",
          "status": "completed"
        },
        "tags": [],
        "id": "zyQ2FNWZFX44"
      },
      "source": [
        "## **ML models**\n",
        "\n",
        "Here I take different machine learning algorithm and try to find algorithm which predict accurately.\n",
        "\n",
        "1. Logistic Regression\n",
        "2. Naive Bayes\n",
        "3. Random Forest Classifier\n",
        "4. Extreme Gradient Boost\n",
        "5. K-Nearest Neighbour\n",
        "6. Decision Tree\n",
        "7. Support Vector Machine\n"
      ]
    },
    {
      "cell_type": "code",
      "execution_count": 51,
      "metadata": {
        "execution": {
          "iopub.execute_input": "2021-03-08T05:58:39.867568Z",
          "iopub.status.busy": "2021-03-08T05:58:39.858475Z",
          "iopub.status.idle": "2021-03-08T05:58:39.870987Z",
          "shell.execute_reply": "2021-03-08T05:58:39.871654Z"
        },
        "papermill": {
          "duration": 0.162172,
          "end_time": "2021-03-08T05:58:39.871851",
          "exception": false,
          "start_time": "2021-03-08T05:58:39.709679",
          "status": "completed"
        },
        "tags": [],
        "id": "WglWtSD3FX44",
        "colab": {
          "base_uri": "https://localhost:8080/"
        },
        "outputId": "346cf681-b48c-4f91-921a-ea3565144e86"
      },
      "outputs": [
        {
          "output_type": "stream",
          "name": "stdout",
          "text": [
            "confussion matrix\n",
            "[[21  6]\n",
            " [ 3 31]]\n",
            "\n",
            "\n",
            "Accuracy of Logistic Regression: 85.24590163934425 \n",
            "\n",
            "              precision    recall  f1-score   support\n",
            "\n",
            "           0       0.88      0.78      0.82        27\n",
            "           1       0.84      0.91      0.87        34\n",
            "\n",
            "    accuracy                           0.85        61\n",
            "   macro avg       0.86      0.84      0.85        61\n",
            "weighted avg       0.85      0.85      0.85        61\n",
            "\n"
          ]
        }
      ],
      "source": [
        "m1 = 'Logistic Regression'\n",
        "lr = LogisticRegression()\n",
        "model = lr.fit(X_train, y_train)\n",
        "lr_predict = lr.predict(X_test)\n",
        "lr_conf_matrix = confusion_matrix(y_test, lr_predict) #actual,predicted\n",
        "lr_acc_score = accuracy_score(y_test, lr_predict)\n",
        "print(\"confussion matrix\")\n",
        "print(lr_conf_matrix)\n",
        "print(\"\\n\")\n",
        "print(\"Accuracy of Logistic Regression:\",lr_acc_score*100,'\\n')\n",
        "print(classification_report(y_test,lr_predict))"
      ]
    },
    {
      "cell_type": "code",
      "execution_count": 25,
      "metadata": {
        "execution": {
          "iopub.execute_input": "2021-03-08T05:58:40.158643Z",
          "iopub.status.busy": "2021-03-08T05:58:40.157620Z",
          "iopub.status.idle": "2021-03-08T05:58:40.176256Z",
          "shell.execute_reply": "2021-03-08T05:58:40.175572Z"
        },
        "papermill": {
          "duration": 0.164027,
          "end_time": "2021-03-08T05:58:40.176396",
          "exception": false,
          "start_time": "2021-03-08T05:58:40.012369",
          "status": "completed"
        },
        "tags": [],
        "id": "aVFQ0iP4FX44",
        "colab": {
          "base_uri": "https://localhost:8080/"
        },
        "outputId": "e0da5ea2-9efc-45c2-cf32-206b33d4c9c4"
      },
      "outputs": [
        {
          "output_type": "stream",
          "name": "stdout",
          "text": [
            "confussion matrix\n",
            "[[21  6]\n",
            " [ 3 31]]\n",
            "\n",
            "\n",
            "Accuracy of Naive Bayes model: 85.24590163934425 \n",
            "\n",
            "              precision    recall  f1-score   support\n",
            "\n",
            "           0       0.88      0.78      0.82        27\n",
            "           1       0.84      0.91      0.87        34\n",
            "\n",
            "    accuracy                           0.85        61\n",
            "   macro avg       0.86      0.84      0.85        61\n",
            "weighted avg       0.85      0.85      0.85        61\n",
            "\n"
          ]
        }
      ],
      "source": [
        "m2 = 'Naive Bayes'\n",
        "nb = GaussianNB()\n",
        "nb.fit(X_train,y_train)\n",
        "nbpred = nb.predict(X_test)\n",
        "nb_conf_matrix = confusion_matrix(y_test, nbpred)\n",
        "nb_acc_score = accuracy_score(y_test, nbpred)\n",
        "print(\"confussion matrix\")\n",
        "print(nb_conf_matrix)\n",
        "print(\"\\n\")\n",
        "print(\"Accuracy of Naive Bayes model:\",nb_acc_score*100,'\\n')\n",
        "print(classification_report(y_test,nbpred))"
      ]
    },
    {
      "cell_type": "code",
      "execution_count": 26,
      "metadata": {
        "execution": {
          "iopub.execute_input": "2021-03-08T05:58:40.454375Z",
          "iopub.status.busy": "2021-03-08T05:58:40.453621Z",
          "iopub.status.idle": "2021-03-08T05:58:40.522834Z",
          "shell.execute_reply": "2021-03-08T05:58:40.521974Z"
        },
        "papermill": {
          "duration": 0.21032,
          "end_time": "2021-03-08T05:58:40.523017",
          "exception": false,
          "start_time": "2021-03-08T05:58:40.312697",
          "status": "completed"
        },
        "tags": [],
        "id": "qAK5GDfjFX45",
        "colab": {
          "base_uri": "https://localhost:8080/"
        },
        "outputId": "f3a33326-ebd2-4c1a-91b5-892f4e152d40"
      },
      "outputs": [
        {
          "output_type": "stream",
          "name": "stdout",
          "text": [
            "confussion matrix\n",
            "[[22  5]\n",
            " [ 3 31]]\n",
            "\n",
            "\n",
            "Accuracy of Random Forest: 86.88524590163934 \n",
            "\n",
            "              precision    recall  f1-score   support\n",
            "\n",
            "           0       0.88      0.81      0.85        27\n",
            "           1       0.86      0.91      0.89        34\n",
            "\n",
            "    accuracy                           0.87        61\n",
            "   macro avg       0.87      0.86      0.87        61\n",
            "weighted avg       0.87      0.87      0.87        61\n",
            "\n"
          ]
        }
      ],
      "source": [
        "m3 = 'Random Forest Classfier'\n",
        "rf = RandomForestClassifier(n_estimators=20, random_state=12,max_depth=5)\n",
        "rf.fit(X_train,y_train)\n",
        "rf_predicted = rf.predict(X_test)\n",
        "rf_conf_matrix = confusion_matrix(y_test, rf_predicted)\n",
        "rf_acc_score = accuracy_score(y_test, rf_predicted)\n",
        "print(\"confussion matrix\")\n",
        "print(rf_conf_matrix)\n",
        "print(\"\\n\")\n",
        "print(\"Accuracy of Random Forest:\",rf_acc_score*100,'\\n')\n",
        "print(classification_report(y_test,rf_predicted))"
      ]
    },
    {
      "cell_type": "code",
      "execution_count": 27,
      "metadata": {
        "execution": {
          "iopub.execute_input": "2021-03-08T05:58:40.817222Z",
          "iopub.status.busy": "2021-03-08T05:58:40.816528Z",
          "iopub.status.idle": "2021-03-08T05:58:40.928432Z",
          "shell.execute_reply": "2021-03-08T05:58:40.929154Z"
        },
        "papermill": {
          "duration": 0.264568,
          "end_time": "2021-03-08T05:58:40.929359",
          "exception": false,
          "start_time": "2021-03-08T05:58:40.664791",
          "status": "completed"
        },
        "tags": [],
        "id": "FPBgHmXqFX45",
        "colab": {
          "base_uri": "https://localhost:8080/"
        },
        "outputId": "6bf3cd04-3766-400b-db53-f70d7746b8bf"
      },
      "outputs": [
        {
          "output_type": "stream",
          "name": "stdout",
          "text": [
            "confussion matrix\n",
            "[[11 16]\n",
            " [ 0 34]]\n",
            "\n",
            "\n",
            "Accuracy of Extreme Gradient Boost: 73.77049180327869 \n",
            "\n",
            "              precision    recall  f1-score   support\n",
            "\n",
            "           0       1.00      0.41      0.58        27\n",
            "           1       0.68      1.00      0.81        34\n",
            "\n",
            "    accuracy                           0.74        61\n",
            "   macro avg       0.84      0.70      0.69        61\n",
            "weighted avg       0.82      0.74      0.71        61\n",
            "\n"
          ]
        }
      ],
      "source": [
        "m4 = 'Extreme Gradient Boost'\n",
        "xgb = XGBClassifier(learning_rate=0.01, n_estimators=25, max_depth=15,gamma=0.6, subsample=0.52,colsample_bytree=0.6,seed=27,\n",
        "                    reg_lambda=2, booster='dart', colsample_bylevel=0.6, colsample_bynode=0.5)\n",
        "xgb.fit(X_train, y_train)\n",
        "xgb_predicted = xgb.predict(X_test)\n",
        "xgb_conf_matrix = confusion_matrix(y_test, xgb_predicted)\n",
        "xgb_acc_score = accuracy_score(y_test, xgb_predicted)\n",
        "print(\"confussion matrix\")\n",
        "print(xgb_conf_matrix)\n",
        "print(\"\\n\")\n",
        "print(\"Accuracy of Extreme Gradient Boost:\",xgb_acc_score*100,'\\n')\n",
        "print(classification_report(y_test,xgb_predicted))"
      ]
    },
    {
      "cell_type": "code",
      "execution_count": 28,
      "metadata": {
        "execution": {
          "iopub.execute_input": "2021-03-08T05:58:41.275796Z",
          "iopub.status.busy": "2021-03-08T05:58:41.275098Z",
          "iopub.status.idle": "2021-03-08T05:58:41.297231Z",
          "shell.execute_reply": "2021-03-08T05:58:41.296579Z"
        },
        "papermill": {
          "duration": 0.174402,
          "end_time": "2021-03-08T05:58:41.297356",
          "exception": false,
          "start_time": "2021-03-08T05:58:41.122954",
          "status": "completed"
        },
        "tags": [],
        "id": "8nUOcdQNFX45",
        "colab": {
          "base_uri": "https://localhost:8080/"
        },
        "outputId": "b98a6390-fc0e-4d60-9794-5c8eb0d8da30"
      },
      "outputs": [
        {
          "output_type": "stream",
          "name": "stdout",
          "text": [
            "confussion matrix\n",
            "[[24  3]\n",
            " [ 4 30]]\n",
            "\n",
            "\n",
            "Accuracy of K-NeighborsClassifier: 88.52459016393442 \n",
            "\n",
            "              precision    recall  f1-score   support\n",
            "\n",
            "           0       0.86      0.89      0.87        27\n",
            "           1       0.91      0.88      0.90        34\n",
            "\n",
            "    accuracy                           0.89        61\n",
            "   macro avg       0.88      0.89      0.88        61\n",
            "weighted avg       0.89      0.89      0.89        61\n",
            "\n"
          ]
        }
      ],
      "source": [
        "m5 = 'K-NeighborsClassifier'\n",
        "knn = KNeighborsClassifier(n_neighbors=10)\n",
        "knn.fit(X_train, y_train)\n",
        "knn_predicted = knn.predict(X_test)\n",
        "knn_conf_matrix = confusion_matrix(y_test, knn_predicted)\n",
        "knn_acc_score = accuracy_score(y_test, knn_predicted)\n",
        "print(\"confussion matrix\")\n",
        "print(knn_conf_matrix)\n",
        "print(\"\\n\")\n",
        "print(\"Accuracy of K-NeighborsClassifier:\",knn_acc_score*100,'\\n')\n",
        "print(classification_report(y_test,knn_predicted))"
      ]
    },
    {
      "cell_type": "code",
      "execution_count": 29,
      "metadata": {
        "execution": {
          "iopub.execute_input": "2021-03-08T05:58:41.584154Z",
          "iopub.status.busy": "2021-03-08T05:58:41.583437Z",
          "iopub.status.idle": "2021-03-08T05:58:41.598125Z",
          "shell.execute_reply": "2021-03-08T05:58:41.597455Z"
        },
        "papermill": {
          "duration": 0.162776,
          "end_time": "2021-03-08T05:58:41.598238",
          "exception": false,
          "start_time": "2021-03-08T05:58:41.435462",
          "status": "completed"
        },
        "tags": [],
        "id": "WSubROKIFX46",
        "colab": {
          "base_uri": "https://localhost:8080/"
        },
        "outputId": "6cdef589-1551-4309-c183-04db6335b460"
      },
      "outputs": [
        {
          "output_type": "stream",
          "name": "stdout",
          "text": [
            "confussion matrix\n",
            "[[23  4]\n",
            " [ 7 27]]\n",
            "\n",
            "\n",
            "Accuracy of DecisionTreeClassifier: 81.9672131147541 \n",
            "\n",
            "              precision    recall  f1-score   support\n",
            "\n",
            "           0       0.77      0.85      0.81        27\n",
            "           1       0.87      0.79      0.83        34\n",
            "\n",
            "    accuracy                           0.82        61\n",
            "   macro avg       0.82      0.82      0.82        61\n",
            "weighted avg       0.82      0.82      0.82        61\n",
            "\n"
          ]
        }
      ],
      "source": [
        "m6 = 'DecisionTreeClassifier'\n",
        "dt = DecisionTreeClassifier(criterion = 'entropy',random_state=0,max_depth = 6)\n",
        "dt.fit(X_train, y_train)\n",
        "dt_predicted = dt.predict(X_test)\n",
        "dt_conf_matrix = confusion_matrix(y_test, dt_predicted)\n",
        "dt_acc_score = accuracy_score(y_test, dt_predicted)\n",
        "print(\"confussion matrix\")\n",
        "print(dt_conf_matrix)\n",
        "print(\"\\n\")\n",
        "print(\"Accuracy of DecisionTreeClassifier:\",dt_acc_score*100,'\\n')\n",
        "print(classification_report(y_test,dt_predicted))"
      ]
    },
    {
      "cell_type": "code",
      "execution_count": 30,
      "metadata": {
        "execution": {
          "iopub.execute_input": "2021-03-08T05:58:41.887960Z",
          "iopub.status.busy": "2021-03-08T05:58:41.887219Z",
          "iopub.status.idle": "2021-03-08T05:58:41.909890Z",
          "shell.execute_reply": "2021-03-08T05:58:41.909139Z"
        },
        "papermill": {
          "duration": 0.171939,
          "end_time": "2021-03-08T05:58:41.910015",
          "exception": false,
          "start_time": "2021-03-08T05:58:41.738076",
          "status": "completed"
        },
        "tags": [],
        "id": "vQyL6dXVFX46",
        "colab": {
          "base_uri": "https://localhost:8080/"
        },
        "outputId": "9b344a4b-8859-4953-d659-0c52896e9420"
      },
      "outputs": [
        {
          "output_type": "stream",
          "name": "stdout",
          "text": [
            "confussion matrix\n",
            "[[23  4]\n",
            " [ 3 31]]\n",
            "\n",
            "\n",
            "Accuracy of Support Vector Classifier: 88.52459016393442 \n",
            "\n",
            "              precision    recall  f1-score   support\n",
            "\n",
            "           0       0.88      0.85      0.87        27\n",
            "           1       0.89      0.91      0.90        34\n",
            "\n",
            "    accuracy                           0.89        61\n",
            "   macro avg       0.89      0.88      0.88        61\n",
            "weighted avg       0.89      0.89      0.88        61\n",
            "\n"
          ]
        }
      ],
      "source": [
        "m7 = 'Support Vector Classifier'\n",
        "svc =  SVC(kernel='rbf', C=2)\n",
        "svc.fit(X_train, y_train)\n",
        "svc_predicted = svc.predict(X_test)\n",
        "svc_conf_matrix = confusion_matrix(y_test, svc_predicted)\n",
        "svc_acc_score = accuracy_score(y_test, svc_predicted)\n",
        "print(\"confussion matrix\")\n",
        "print(svc_conf_matrix)\n",
        "print(\"\\n\")\n",
        "print(\"Accuracy of Support Vector Classifier:\",svc_acc_score*100,'\\n')\n",
        "print(classification_report(y_test,svc_predicted))"
      ]
    },
    {
      "cell_type": "code",
      "execution_count": 31,
      "metadata": {
        "execution": {
          "iopub.execute_input": "2021-03-08T05:58:42.210476Z",
          "iopub.status.busy": "2021-03-08T05:58:42.209717Z",
          "iopub.status.idle": "2021-03-08T05:58:42.535155Z",
          "shell.execute_reply": "2021-03-08T05:58:42.534601Z"
        },
        "papermill": {
          "duration": 0.483673,
          "end_time": "2021-03-08T05:58:42.535282",
          "exception": false,
          "start_time": "2021-03-08T05:58:42.051609",
          "status": "completed"
        },
        "tags": [],
        "id": "626cgrdpFX46",
        "colab": {
          "base_uri": "https://localhost:8080/",
          "height": 410
        },
        "outputId": "393191db-303f-48e7-edb5-16f28a5834f1"
      },
      "outputs": [
        {
          "output_type": "display_data",
          "data": {
            "text/plain": [
              "<Figure size 1000x400 with 1 Axes>"
            ],
            "image/png": "[encoded data removed]"
          },
          "metadata": {}
        }
      ],
      "source": [
        "imp_feature = pd.DataFrame({'Feature': ['age', 'sex', 'cp', 'trestbps', 'chol', 'fbs', 'restecg', 'thalach',\n",
        "       'exang', 'oldpeak', 'slope', 'ca', 'thal'], 'Importance': xgb.feature_importances_})\n",
        "plt.figure(figsize=(10,4))\n",
        "plt.title(\"barplot Represent feature importance \")\n",
        "plt.xlabel(\"importance \")\n",
        "plt.ylabel(\"features\")\n",
        "plt.barh(imp_feature['Feature'],imp_feature['Importance'])\n",
        "plt.show()"
      ]
    },
    {
      "cell_type": "code",
      "execution_count": 32,
      "metadata": {
        "execution": {
          "iopub.execute_input": "2021-03-08T05:58:42.838448Z",
          "iopub.status.busy": "2021-03-08T05:58:42.837711Z",
          "iopub.status.idle": "2021-03-08T05:58:43.178441Z",
          "shell.execute_reply": "2021-03-08T05:58:43.179055Z"
        },
        "papermill": {
          "duration": 0.500369,
          "end_time": "2021-03-08T05:58:43.179203",
          "exception": false,
          "start_time": "2021-03-08T05:58:42.678834",
          "status": "completed"
        },
        "tags": [],
        "id": "PuodwAVIFX46",
        "colab": {
          "base_uri": "https://localhost:8080/",
          "height": 487
        },
        "outputId": "e6af7904-7b58-44aa-8b4c-2c807c864815"
      },
      "outputs": [
        {
          "output_type": "display_data",
          "data": {
            "text/plain": [
              "<Figure size 1000x500 with 1 Axes>"
            ],
            "image/png": "[encoded data removed]"
          },
          "metadata": {}
        }
      ],
      "source": [
        "lr_false_positive_rate,lr_true_positive_rate,lr_threshold = roc_curve(y_test,lr_predict)\n",
        "nb_false_positive_rate,nb_true_positive_rate,nb_threshold = roc_curve(y_test,nbpred)\n",
        "rf_false_positive_rate,rf_true_positive_rate,rf_threshold = roc_curve(y_test,rf_predicted)\n",
        "xgb_false_positive_rate,xgb_true_positive_rate,xgb_threshold = roc_curve(y_test,xgb_predicted)\n",
        "knn_false_positive_rate,knn_true_positive_rate,knn_threshold = roc_curve(y_test,knn_predicted)\n",
        "dt_false_positive_rate,dt_true_positive_rate,dt_threshold = roc_curve(y_test,dt_predicted)\n",
        "svc_false_positive_rate,svc_true_positive_rate,svc_threshold = roc_curve(y_test,svc_predicted)\n",
        "\n",
        "\n",
        "sns.set_style('whitegrid')\n",
        "plt.figure(figsize=(10,5))\n",
        "plt.title('Reciver Operating Characterstic Curve')\n",
        "plt.plot(lr_false_positive_rate,lr_true_positive_rate,label='Logistic Regression')\n",
        "plt.plot(nb_false_positive_rate,nb_true_positive_rate,label='Naive Bayes')\n",
        "plt.plot(rf_false_positive_rate,rf_true_positive_rate,label='Random Forest')\n",
        "plt.plot(xgb_false_positive_rate,xgb_true_positive_rate,label='Extreme Gradient Boost')\n",
        "plt.plot(knn_false_positive_rate,knn_true_positive_rate,label='K-Nearest Neighbor')\n",
        "plt.plot(dt_false_positive_rate,dt_true_positive_rate,label='Desion Tree')\n",
        "plt.plot(svc_false_positive_rate,svc_true_positive_rate,label='Support Vector Classifier')\n",
        "plt.plot([0,1],ls='--')\n",
        "plt.plot([0,0],[1,0],c='.5')\n",
        "plt.plot([1,1],c='.5')\n",
        "plt.ylabel('True positive rate')\n",
        "plt.xlabel('False positive rate')\n",
        "plt.legend()\n",
        "plt.show()"
      ]
    },
    {
      "cell_type": "markdown",
      "metadata": {
        "papermill": {
          "duration": 0.14712,
          "end_time": "2021-03-08T05:58:43.473028",
          "exception": false,
          "start_time": "2021-03-08T05:58:43.325908",
          "status": "completed"
        },
        "tags": [],
        "id": "zTlUCXU8FX47"
      },
      "source": [
        "# **Model Evaluation**"
      ]
    },
    {
      "cell_type": "code",
      "execution_count": 52,
      "metadata": {
        "execution": {
          "iopub.execute_input": "2021-03-08T05:58:43.778499Z",
          "iopub.status.busy": "2021-03-08T05:58:43.777808Z",
          "iopub.status.idle": "2021-03-08T05:58:43.781157Z",
          "shell.execute_reply": "2021-03-08T05:58:43.781693Z"
        },
        "papermill": {
          "duration": 0.164792,
          "end_time": "2021-03-08T05:58:43.781860",
          "exception": false,
          "start_time": "2021-03-08T05:58:43.617068",
          "status": "completed"
        },
        "tags": [],
        "id": "ldDlYIHUFX47",
        "colab": {
          "base_uri": "https://localhost:8080/",
          "height": 269
        },
        "outputId": "2ba394b7-b420-4c54-cb31-f0b0255ba3d6",
        "collapsed": true
      },
      "outputs": [
        {
          "output_type": "execute_result",
          "data": {
            "text/plain": [
              "                    Model   Accuracy\n",
              "0     Logistic Regression  85.245902\n",
              "1             Naive Bayes  85.245902\n",
              "2           Random Forest  86.885246\n",
              "3  Extreme Gradient Boost  73.770492\n",
              "4     K-Nearest Neighbour  88.524590\n",
              "5           Decision Tree  81.967213\n",
              "6  Support Vector Machine  88.524590"
            ],
            "text/html": [
              "\n",
              "  <div id=\"df-9800615e-086b-4350-94ad-c4673d9a6c9a\" class=\"colab-df-container\">\n",
              "    <div>\n",
              "<style scoped>\n",
              "    .dataframe tbody tr th:only-of-type {\n",
              "        vertical-align: middle;\n",
              "    }\n",
              "\n",
              "    .dataframe tbody tr th {\n",
              "        vertical-align: top;\n",
              "    }\n",
              "\n",
              "    .dataframe thead th {\n",
              "        text-align: right;\n",
              "    }\n",
              "</style>\n",
              "<table border=\"1\" class=\"dataframe\">\n",
              "  <thead>\n",
              "    <tr style=\"text-align: right;\">\n",
              "      <th></th>\n",
              "      <th>Model</th>\n",
              "      <th>Accuracy</th>\n",
              "    </tr>\n",
              "  </thead>\n",
              "  <tbody>\n",
              "    <tr>\n",
              "      <th>0</th>\n",
              "      <td>Logistic Regression</td>\n",
              "      <td>85.245902</td>\n",
              "    </tr>\n",
              "    <tr>\n",
              "      <th>1</th>\n",
              "      <td>Naive Bayes</td>\n",
              "      <td>85.245902</td>\n",
              "    </tr>\n",
              "    <tr>\n",
              "      <th>2</th>\n",
              "      <td>Random Forest</td>\n",
              "      <td>86.885246</td>\n",
              "    </tr>\n",
              "    <tr>\n",
              "      <th>3</th>\n",
              "      <td>Extreme Gradient Boost</td>\n",
              "      <td>73.770492</td>\n",
              "    </tr>\n",
              "    <tr>\n",
              "      <th>4</th>\n",
              "      <td>K-Nearest Neighbour</td>\n",
              "      <td>88.524590</td>\n",
              "    </tr>\n",
              "    <tr>\n",
              "      <th>5</th>\n",
              "      <td>Decision Tree</td>\n",
              "      <td>81.967213</td>\n",
              "    </tr>\n",
              "    <tr>\n",
              "      <th>6</th>\n",
              "      <td>Support Vector Machine</td>\n",
              "      <td>88.524590</td>\n",
              "    </tr>\n",
              "  </tbody>\n",
              "</table>\n",
              "</div>\n",
              "    <div class=\"colab-df-buttons\">\n",
              "\n",
              "  <div class=\"colab-df-container\">\n",
              "    <button class=\"colab-df-convert\" onclick=\"convertToInteractive('df-9800615e-086b-4350-94ad-c4673d9a6c9a')\"\n",
              "            title=\"Convert this dataframe to an interactive table.\"\n",
              "            style=\"display:none;\">\n",
              "\n",
              "  <svg xmlns=\"http://www.w3.org/2000/svg\" height=\"24px\" viewBox=\"0 -960 960 960\">\n",
              "    <path d=\"M120-120v-720h720v720H120Zm60-500h600v-160H180v160Zm220 220h160v-160H400v160Zm0 220h160v-160H400v160ZM180-400h160v-160H180v160Zm440 0h160v-160H620v160ZM180-180h160v-160H180v160Zm440 0h160v-160H620v160Z\"/>\n",
              "  </svg>\n",
              "    </button>\n",
              "\n",
              "  <style>\n",
              "    .colab-df-container {\n",
              "      display:flex;\n",
              "      gap: 12px;\n",
              "    }\n",
              "\n",
              "    .colab-df-convert {\n",
              "      background-color: #E8F0FE;\n",
              "      border: none;\n",
              "      border-radius: 50%;\n",
              "      cursor: pointer;\n",
              "      display: none;\n",
              "      fill: #1967D2;\n",
              "      height: 32px;\n",
              "      padding: 0 0 0 0;\n",
              "      width: 32px;\n",
              "    }\n",
              "\n",
              "    .colab-df-convert:hover {\n",
              "      background-color: #E2EBFA;\n",
              "      box-shadow: 0px 1px 2px rgba(60, 64, 67, 0.3), 0px 1px 3px 1px rgba(60, 64, 67, 0.15);\n",
              "      fill: #174EA6;\n",
              "    }\n",
              "\n",
              "    .colab-df-buttons div {\n",
              "      margin-bottom: 4px;\n",
              "    }\n",
              "\n",
              "    [theme=dark] .colab-df-convert {\n",
              "      background-color: #3B4455;\n",
              "      fill: #D2E3FC;\n",
              "    }\n",
              "\n",
              "    [theme=dark] .colab-df-convert:hover {\n",
              "      background-color: #434B5C;\n",
              "      box-shadow: 0px 1px 3px 1px rgba(0, 0, 0, 0.15);\n",
              "      filter: drop-shadow(0px 1px 2px rgba(0, 0, 0, 0.3));\n",
              "      fill: #FFFFFF;\n",
              "    }\n",
              "  </style>\n",
              "\n",
              "    <script>\n",
              "      const buttonEl =\n",
              "        document.querySelector('#df-9800615e-086b-4350-94ad-c4673d9a6c9a button.colab-df-convert');\n",
              "      buttonEl.style.display =\n",
              "        google.colab.kernel.accessAllowed ? 'block' : 'none';\n",
              "\n",
              "      async function convertToInteractive(key) {\n",
              "        const element = document.querySelector('#df-9800615e-086b-4350-94ad-c4673d9a6c9a');\n",
              "        const dataTable =\n",
              "          await google.colab.kernel.invokeFunction('convertToInteractive',\n",
              "                                                    [key], {});\n",
              "        if (!dataTable) return;\n",
              "\n",
              "        const docLinkHtml = 'Like what you see? Visit the ' +\n",
              "          '<a target=\"_blank\" href=https://colab.research.google.com/notebooks/data_table.ipynb>data table notebook</a>'\n",
              "          + ' to learn more about interactive tables.';\n",
              "        element.innerHTML = '';\n",
              "        dataTable['output_type'] = 'display_data';\n",
              "        await google.colab.output.renderOutput(dataTable, element);\n",
              "        const docLink = document.createElement('div');\n",
              "        docLink.innerHTML = docLinkHtml;\n",
              "        element.appendChild(docLink);\n",
              "      }\n",
              "    </script>\n",
              "  </div>\n",
              "\n",
              "\n",
              "    <div id=\"df-589ed13a-5370-4065-8331-8c51887640a2\">\n",
              "      <button class=\"colab-df-quickchart\" onclick=\"quickchart('df-589ed13a-5370-4065-8331-8c51887640a2')\"\n",
              "                title=\"Suggest charts\"\n",
              "                style=\"display:none;\">\n",
              "\n",
              "<svg xmlns=\"http://www.w3.org/2000/svg\" height=\"24px\"viewBox=\"0 0 24 24\"\n",
              "     width=\"24px\">\n",
              "    <g>\n",
              "        <path d=\"M19 3H5c-1.1 0-2 .9-2 2v14c0 1.1.9 2 2 2h14c1.1 0 2-.9 2-2V5c0-1.1-.9-2-2-2zM9 17H7v-7h2v7zm4 0h-2V7h2v10zm4 0h-2v-4h2v4z\"/>\n",
              "    </g>\n",
              "</svg>\n",
              "      </button>\n",
              "\n",
              "<style>\n",
              "  .colab-df-quickchart {\n",
              "      --bg-color: #E8F0FE;\n",
              "      --fill-color: #1967D2;\n",
              "      --hover-bg-color: #E2EBFA;\n",
              "      --hover-fill-color: #174EA6;\n",
              "      --disabled-fill-color: #AAA;\n",
              "      --disabled-bg-color: #DDD;\n",
              "  }\n",
              "\n",
              "  [theme=dark] .colab-df-quickchart {\n",
              "      --bg-color: #3B4455;\n",
              "      --fill-color: #D2E3FC;\n",
              "      --hover-bg-color: #434B5C;\n",
              "      --hover-fill-color: #FFFFFF;\n",
              "      --disabled-bg-color: #3B4455;\n",
              "      --disabled-fill-color: #666;\n",
              "  }\n",
              "\n",
              "  .colab-df-quickchart {\n",
              "    background-color: var(--bg-color);\n",
              "    border: none;\n",
              "    border-radius: 50%;\n",
              "    cursor: pointer;\n",
              "    display: none;\n",
              "    fill: var(--fill-color);\n",
              "    height: 32px;\n",
              "    padding: 0;\n",
              "    width: 32px;\n",
              "  }\n",
              "\n",
              "  .colab-df-quickchart:hover {\n",
              "    background-color: var(--hover-bg-color);\n",
              "    box-shadow: 0 1px 2px rgba(60, 64, 67, 0.3), 0 1px 3px 1px rgba(60, 64, 67, 0.15);\n",
              "    fill: var(--button-hover-fill-color);\n",
              "  }\n",
              "\n",
              "  .colab-df-quickchart-complete:disabled,\n",
              "  .colab-df-quickchart-complete:disabled:hover {\n",
              "    background-color: var(--disabled-bg-color);\n",
              "    fill: var(--disabled-fill-color);\n",
              "    box-shadow: none;\n",
              "  }\n",
              "\n",
              "  .colab-df-spinner {\n",
              "    border: 2px solid var(--fill-color);\n",
              "    border-color: transparent;\n",
              "    border-bottom-color: var(--fill-color);\n",
              "    animation:\n",
              "      spin 1s steps(1) infinite;\n",
              "  }\n",
              "\n",
              "  @keyframes spin {\n",
              "    0% {\n",
              "      border-color: transparent;\n",
              "      border-bottom-color: var(--fill-color);\n",
              "      border-left-color: var(--fill-color);\n",
              "    }\n",
              "    20% {\n",
              "      border-color: transparent;\n",
              "      border-left-color: var(--fill-color);\n",
              "      border-top-color: var(--fill-color);\n",
              "    }\n",
              "    30% {\n",
              "      border-color: transparent;\n",
              "      border-left-color: var(--fill-color);\n",
              "      border-top-color: var(--fill-color);\n",
              "      border-right-color: var(--fill-color);\n",
              "    }\n",
              "    40% {\n",
              "      border-color: transparent;\n",
              "      border-right-color: var(--fill-color);\n",
              "      border-top-color: var(--fill-color);\n",
              "    }\n",
              "    60% {\n",
              "      border-color: transparent;\n",
              "      border-right-color: var(--fill-color);\n",
              "    }\n",
              "    80% {\n",
              "      border-color: transparent;\n",
              "      border-right-color: var(--fill-color);\n",
              "      border-bottom-color: var(--fill-color);\n",
              "    }\n",
              "    90% {\n",
              "      border-color: transparent;\n",
              "      border-bottom-color: var(--fill-color);\n",
              "    }\n",
              "  }\n",
              "</style>\n",
              "\n",
              "      <script>\n",
              "        async function quickchart(key) {\n",
              "          const quickchartButtonEl =\n",
              "            document.querySelector('#' + key + ' button');\n",
              "          quickchartButtonEl.disabled = true;  // To prevent multiple clicks.\n",
              "          quickchartButtonEl.classList.add('colab-df-spinner');\n",
              "          try {\n",
              "            const charts = await google.colab.kernel.invokeFunction(\n",
              "                'suggestCharts', [key], {});\n",
              "          } catch (error) {\n",
              "            console.error('Error during call to suggestCharts:', error);\n",
              "          }\n",
              "          quickchartButtonEl.classList.remove('colab-df-spinner');\n",
              "          quickchartButtonEl.classList.add('colab-df-quickchart-complete');\n",
              "        }\n",
              "        (() => {\n",
              "          let quickchartButtonEl =\n",
              "            document.querySelector('#df-589ed13a-5370-4065-8331-8c51887640a2 button');\n",
              "          quickchartButtonEl.style.display =\n",
              "            google.colab.kernel.accessAllowed ? 'block' : 'none';\n",
              "        })();\n",
              "      </script>\n",
              "    </div>\n",
              "\n",
              "  <div id=\"id_1319db2c-bdde-4151-8c7e-2bb1a72b697c\">\n",
              "    <style>\n",
              "      .colab-df-generate {\n",
              "        background-color: #E8F0FE;\n",
              "        border: none;\n",
              "        border-radius: 50%;\n",
              "        cursor: pointer;\n",
              "        display: none;\n",
              "        fill: #1967D2;\n",
              "        height: 32px;\n",
              "        padding: 0 0 0 0;\n",
              "        width: 32px;\n",
              "      }\n",
              "\n",
              "      .colab-df-generate:hover {\n",
              "        background-color: #E2EBFA;\n",
              "        box-shadow: 0px 1px 2px rgba(60, 64, 67, 0.3), 0px 1px 3px 1px rgba(60, 64, 67, 0.15);\n",
              "        fill: #174EA6;\n",
              "      }\n",
              "\n",
              "      [theme=dark] .colab-df-generate {\n",
              "        background-color: #3B4455;\n",
              "        fill: #D2E3FC;\n",
              "      }\n",
              "\n",
              "      [theme=dark] .colab-df-generate:hover {\n",
              "        background-color: #434B5C;\n",
              "        box-shadow: 0px 1px 3px 1px rgba(0, 0, 0, 0.15);\n",
              "        filter: drop-shadow(0px 1px 2px rgba(0, 0, 0, 0.3));\n",
              "        fill: #FFFFFF;\n",
              "      }\n",
              "    </style>\n",
              "    <button class=\"colab-df-generate\" onclick=\"generateWithVariable('model_ev')\"\n",
              "            title=\"Generate code using this dataframe.\"\n",
              "            style=\"display:none;\">\n",
              "\n",
              "  <svg xmlns=\"http://www.w3.org/2000/svg\" height=\"24px\"viewBox=\"0 0 24 24\"\n",
              "       width=\"24px\">\n",
              "    <path d=\"M7,19H8.4L18.45,9,17,7.55,7,17.6ZM5,21V16.75L18.45,3.32a2,2,0,0,1,2.83,0l1.4,1.43a1.91,1.91,0,0,1,.58,1.4,1.91,1.91,0,0,1-.58,1.4L9.25,21ZM18.45,9,17,7.55Zm-12,3A5.31,5.31,0,0,0,4.9,8.1,5.31,5.31,0,0,0,1,6.5,5.31,5.31,0,0,0,4.9,4.9,5.31,5.31,0,0,0,6.5,1,5.31,5.31,0,0,0,8.1,4.9,5.31,5.31,0,0,0,12,6.5,5.46,5.46,0,0,0,6.5,12Z\"/>\n",
              "  </svg>\n",
              "    </button>\n",
              "    <script>\n",
              "      (() => {\n",
              "      const buttonEl =\n",
              "        document.querySelector('#id_1319db2c-bdde-4151-8c7e-2bb1a72b697c button.colab-df-generate');\n",
              "      buttonEl.style.display =\n",
              "        google.colab.kernel.accessAllowed ? 'block' : 'none';\n",
              "\n",
              "      buttonEl.onclick = () => {\n",
              "        google.colab.notebook.generateWithVariable('model_ev');\n",
              "      }\n",
              "      })();\n",
              "    </script>\n",
              "  </div>\n",
              "\n",
              "    </div>\n",
              "  </div>\n"
            ],
            "application/vnd.google.colaboratory.intrinsic+json": {
              "type": "dataframe",
              "variable_name": "model_ev",
              "summary": "{\n  \"name\": \"model_ev\",\n  \"rows\": 7,\n  \"fields\": [\n    {\n      \"column\": \"Model\",\n      \"properties\": {\n        \"dtype\": \"string\",\n        \"num_unique_values\": 7,\n        \"samples\": [\n          \"Logistic Regression\",\n          \"Naive Bayes\",\n          \"Decision Tree\"\n        ],\n        \"semantic_type\": \"\",\n        \"description\": \"\"\n      }\n    },\n    {\n      \"column\": \"Accuracy\",\n      \"properties\": {\n        \"dtype\": \"number\",\n        \"std\": 5.1717040047000395,\n        \"min\": 73.77049180327869,\n        \"max\": 88.52459016393442,\n        \"num_unique_values\": 5,\n        \"samples\": [\n          86.88524590163934,\n          81.9672131147541,\n          73.77049180327869\n        ],\n        \"semantic_type\": \"\",\n        \"description\": \"\"\n      }\n    }\n  ]\n}"
            }
          },
          "metadata": {},
          "execution_count": 52
        }
      ],
      "source": [
        "model_ev = pd.DataFrame({'Model': ['Logistic Regression','Naive Bayes','Random Forest','Extreme Gradient Boost',\n",
        "                    'K-Nearest Neighbour','Decision Tree','Support Vector Machine'], 'Accuracy': [lr_acc_score*100,\n",
        "                    nb_acc_score*100,rf_acc_score*100,xgb_acc_score*100,knn_acc_score*100,dt_acc_score*100,svc_acc_score*100]})\n",
        "model_ev"
      ]
    },
    {
      "cell_type": "code",
      "execution_count": 34,
      "metadata": {
        "execution": {
          "iopub.execute_input": "2021-03-08T05:58:44.072923Z",
          "iopub.status.busy": "2021-03-08T05:58:44.072184Z",
          "iopub.status.idle": "2021-03-08T05:58:44.265929Z",
          "shell.execute_reply": "2021-03-08T05:58:44.266408Z"
        },
        "papermill": {
          "duration": 0.341922,
          "end_time": "2021-03-08T05:58:44.266566",
          "exception": false,
          "start_time": "2021-03-08T05:58:43.924644",
          "status": "completed"
        },
        "tags": [],
        "id": "VDr2qvi1FX47",
        "colab": {
          "base_uri": "https://localhost:8080/",
          "height": 487
        },
        "outputId": "7a387493-3120-4b73-d80f-cdcdfba99a10"
      },
      "outputs": [
        {
          "output_type": "display_data",
          "data": {
            "text/plain": [
              "<Figure size 1200x500 with 1 Axes>"
            ],
            "image/png": "[encoded data removed]"
          },
          "metadata": {}
        }
      ],
      "source": [
        "colors = ['red','green','blue','gold','silver','yellow','orange',]\n",
        "plt.figure(figsize=(12,5))\n",
        "plt.title(\"barplot Represent Accuracy of different models\")\n",
        "plt.xlabel(\"Accuracy %\")\n",
        "plt.ylabel(\"Algorithms\")\n",
        "plt.bar(model_ev['Model'],model_ev['Accuracy'],color = colors)\n",
        "plt.show()"
      ]
    },
    {
      "cell_type": "markdown",
      "metadata": {
        "papermill": {
          "duration": 0.145789,
          "end_time": "2021-03-08T05:58:44.604907",
          "exception": false,
          "start_time": "2021-03-08T05:58:44.459118",
          "status": "completed"
        },
        "tags": [],
        "id": "ijd7pRkzFX47"
      },
      "source": [
        "## **Ensembling**\n",
        "\n",
        "> **In order to increase the accuracy of the model we use ensembling. Here we use stacking technique.**"
      ]
    },
    {
      "cell_type": "code",
      "execution_count": 42,
      "metadata": {
        "execution": {
          "iopub.execute_input": "2021-03-08T05:58:44.899787Z",
          "iopub.status.busy": "2021-03-08T05:58:44.899107Z",
          "iopub.status.idle": "2021-03-08T05:58:44.999875Z",
          "shell.execute_reply": "2021-03-08T05:58:45.000546Z"
        },
        "papermill": {
          "duration": 0.252381,
          "end_time": "2021-03-08T05:58:45.000732",
          "exception": false,
          "start_time": "2021-03-08T05:58:44.748351",
          "status": "completed"
        },
        "tags": [],
        "id": "ZE4dt7XZFX47",
        "colab": {
          "base_uri": "https://localhost:8080/"
        },
        "outputId": "ce140046-022d-4dc1-fa22-195af6a4c3d6"
      },
      "outputs": [
        {
          "output_type": "stream",
          "name": "stdout",
          "text": [
            "Confussion matrix\n",
            "[[23  4]\n",
            " [ 2 32]]\n",
            "\n",
            "\n",
            "Accuracy of Voting Classifier: 90.1639344262295 \n",
            "\n",
            "              precision    recall  f1-score   support\n",
            "\n",
            "           0       0.92      0.85      0.88        27\n",
            "           1       0.89      0.94      0.91        34\n",
            "\n",
            "    accuracy                           0.90        61\n",
            "   macro avg       0.90      0.90      0.90        61\n",
            "weighted avg       0.90      0.90      0.90        61\n",
            "\n"
          ]
        }
      ],
      "source": [
        "from sklearn.ensemble import VotingClassifier\n",
        "\n",
        "# Using the best performing models: KNN, SVC, and also include Random Forest\n",
        "# You can choose different models based on your evaluation\n",
        "voting_clf = VotingClassifier(estimators=[('knn', knn), ('svc', svc), ('rf', rf)], voting='hard')\n",
        "\n",
        "voting_clf.fit(X_train, y_train)\n",
        "voting_predicted = voting_clf.predict(X_test)\n",
        "\n",
        "voting_conf_matrix = confusion_matrix(y_test, voting_predicted)\n",
        "voting_acc_score = accuracy_score(y_test, voting_predicted)\n",
        "\n",
        "print(\"Confussion matrix\")\n",
        "print(voting_conf_matrix)\n",
        "print(\"\\n\")\n",
        "print(\"Accuracy of Voting Classifier:\",voting_acc_score*100,'\\n')\n",
        "print(classification_report(y_test,voting_predicted))"
      ]
    },
    {
      "cell_type": "markdown",
      "metadata": {
        "papermill": {
          "duration": 0.144929,
          "end_time": "2021-03-08T05:58:45.342043",
          "exception": false,
          "start_time": "2021-03-08T05:58:45.197114",
          "status": "completed"
        },
        "tags": [],
        "id": "HZQGBxxKFX48"
      },
      "source": [
        "# **Conclusion**\n",
        "\n",
        "1) KNN gives the best Accuracy compared to other models.\n",
        "\n",
        "2) Exercise induced angina,Chest pain is major symptoms of heart attack.\n",
        "\n",
        "3) Ensembling technique increase the accuracy of the model.\n",
        "\n"
      ]
    },
    {
      "cell_type": "code",
      "execution_count": null,
      "metadata": {
        "papermill": {
          "duration": 0.143829,
          "end_time": "2021-03-08T05:58:45.630932",
          "exception": false,
          "start_time": "2021-03-08T05:58:45.487103",
          "status": "completed"
        },
        "tags": [],
        "id": "Ot-H9KbnFX48"
      },
      "outputs": [],
      "source": []
    }
  ],
  "metadata": {
    "kernelspec": {
      "display_name": "Python 3 (ipykernel)",
      "language": "python",
      "name": "python3"
    },
    "language_info": {
      "codemirror_mode": {
        "name": "ipython",
        "version": 3
      },
      "file_extension": ".py",
      "mimetype": "text/x-python",
      "name": "python",
      "nbconvert_exporter": "python",
      "pygments_lexer": "ipython3",
      "version": "3.9.12"
    },
    "papermill": {
      "duration": 44.200121,
      "end_time": "2021-03-08T05:58:46.817324",
      "environment_variables": {},
      "exception": null,
      "input_path": "__notebook__.ipynb",
      "output_path": "__notebook__.ipynb",
      "parameters": {},
      "start_time": "2021-03-08T05:58:02.617203",
      "version": "2.1.0"
    },
    "colab": {
      "provenance": [],
      "include_colab_link": true
    }
  },
  "nbformat": 4,
  "nbformat_minor": 0
}